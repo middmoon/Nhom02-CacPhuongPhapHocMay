{
 "cells": [
  {
   "cell_type": "code",
   "execution_count": 750,
   "metadata": {},
   "outputs": [],
   "source": [
    "#Model 1"
   ]
  },
  {
   "cell_type": "code",
   "execution_count": 2,
   "metadata": {},
   "outputs": [],
   "source": [
    "import pandas as pd\n",
    "from sklearn.model_selection import train_test_split\n",
    "from sklearn.preprocessing import StandardScaler, OneHotEncoder\n",
    "from sklearn.multioutput import MultiOutputRegressor\n",
    "from sklearn.ensemble import RandomForestRegressor\n",
    "from sklearn.metrics import mean_squared_error, r2_score\n",
    "from sklearn.metrics import accuracy_score, f1_score, confusion_matrix\n",
    "from sklearn.model_selection import GridSearchCV\n",
    "from sklearn.ensemble import RandomForestClassifier\n",
    "import joblib\n"
   ]
  },
  {
   "cell_type": "code",
   "execution_count": 3,
   "metadata": {},
   "outputs": [],
   "source": [
    "df = pd.read_csv('weather.csv')"
   ]
  },
  {
   "cell_type": "code",
   "execution_count": 4,
   "metadata": {},
   "outputs": [],
   "source": [
    "unique_provinces = df['province'].unique()\n",
    "num_provinces = len(unique_provinces)\n",
    "\n",
    "# Mã hóa OneHotEncoder cho các tỉnh thành\n",
    "df_province = pd.DataFrame({'province': unique_provinces})\n",
    "onehot_encoder = OneHotEncoder(sparse_output=False)\n",
    "encoded_provinces = onehot_encoder.fit_transform(df_province[['province']])\n",
    "\n",
    "df_province_encoded = pd.DataFrame(encoded_provinces, columns=onehot_encoder.get_feature_names_out(['province']))\n",
    "\n",
    "# Thêm các cột mã hóa vào DataFrame gốc\n",
    "df = pd.concat([df.reset_index(drop=True), df_province_encoded.reset_index(drop=True)], axis=1)"
   ]
  },
  {
   "cell_type": "code",
   "execution_count": 5,
   "metadata": {},
   "outputs": [
    {
     "name": "stdout",
     "output_type": "stream",
     "text": [
      "<class 'pandas.core.frame.DataFrame'>\n",
      "RangeIndex: 181960 entries, 0 to 181959\n",
      "Data columns (total 60 columns):\n",
      " #   Column                     Non-Null Count   Dtype         \n",
      "---  ------                     --------------   -----         \n",
      " 0   province                   181960 non-null  object        \n",
      " 1   max                        181960 non-null  int64         \n",
      " 2   min                        181960 non-null  int64         \n",
      " 3   wind                       181960 non-null  int64         \n",
      " 4   wind_d                     181960 non-null  object        \n",
      " 5   rain                       181960 non-null  float64       \n",
      " 6   humidi                     181960 non-null  int64         \n",
      " 7   cloud                      181960 non-null  int64         \n",
      " 8   pressure                   181960 non-null  int64         \n",
      " 9   date                       181960 non-null  datetime64[ns]\n",
      " 10  province_Bac Lieu          40 non-null      float64       \n",
      " 11  province_Ben Tre           40 non-null      float64       \n",
      " 12  province_Bien Hoa          40 non-null      float64       \n",
      " 13  province_Buon Me Thuot     40 non-null      float64       \n",
      " 14  province_Ca Mau            40 non-null      float64       \n",
      " 15  province_Cam Pha           40 non-null      float64       \n",
      " 16  province_Cam Ranh          40 non-null      float64       \n",
      " 17  province_Can Tho           40 non-null      float64       \n",
      " 18  province_Chau Doc          40 non-null      float64       \n",
      " 19  province_Da Lat            40 non-null      float64       \n",
      " 20  province_Ha Noi            40 non-null      float64       \n",
      " 21  province_Hai Duong         40 non-null      float64       \n",
      " 22  province_Hai Phong         40 non-null      float64       \n",
      " 23  province_Hanoi             40 non-null      float64       \n",
      " 24  province_Ho Chi Minh City  40 non-null      float64       \n",
      " 25  province_Hoa Binh          40 non-null      float64       \n",
      " 26  province_Hong Gai          40 non-null      float64       \n",
      " 27  province_Hue               40 non-null      float64       \n",
      " 28  province_Long Xuyen        40 non-null      float64       \n",
      " 29  province_My Tho            40 non-null      float64       \n",
      " 30  province_Nam Dinh          40 non-null      float64       \n",
      " 31  province_Nha Trang         40 non-null      float64       \n",
      " 32  province_Phan Rang         40 non-null      float64       \n",
      " 33  province_Phan Thiet        40 non-null      float64       \n",
      " 34  province_Play Cu           40 non-null      float64       \n",
      " 35  province_Qui Nhon          40 non-null      float64       \n",
      " 36  province_Rach Gia          40 non-null      float64       \n",
      " 37  province_Soc Trang         40 non-null      float64       \n",
      " 38  province_Tam Ky            40 non-null      float64       \n",
      " 39  province_Tan An            40 non-null      float64       \n",
      " 40  province_Thai Nguyen       40 non-null      float64       \n",
      " 41  province_Thanh Hoa         40 non-null      float64       \n",
      " 42  province_Tra Vinh          40 non-null      float64       \n",
      " 43  province_Tuy Hoa           40 non-null      float64       \n",
      " 44  province_Uong Bi           40 non-null      float64       \n",
      " 45  province_Viet Tri          40 non-null      float64       \n",
      " 46  province_Vinh              40 non-null      float64       \n",
      " 47  province_Vinh Long         40 non-null      float64       \n",
      " 48  province_Vung Tau          40 non-null      float64       \n",
      " 49  province_Yen Bai           40 non-null      float64       \n",
      " 50  have_rain                  181960 non-null  bool          \n",
      " 51  wind_degree                181960 non-null  float64       \n",
      " 52  year                       181960 non-null  int32         \n",
      " 53  month                      181960 non-null  int32         \n",
      " 54  day                        181960 non-null  int32         \n",
      " 55  day_of_week                181960 non-null  object        \n",
      " 56  week_of_year               181960 non-null  UInt32        \n",
      " 57  year_quarter               181960 non-null  int64         \n",
      " 58  month_period               181960 non-null  int64         \n",
      " 59  day_of_week_encoded        181960 non-null  int64         \n",
      "dtypes: UInt32(1), bool(1), datetime64[ns](1), float64(42), int32(3), int64(9), object(3)\n",
      "memory usage: 79.5+ MB\n"
     ]
    }
   ],
   "source": [
    "# Xác định có mưa\n",
    "df['have_rain'] = df['rain'] > 0\n",
    "\n",
    "df['have_rain'] = df['have_rain'].astype(bool)\n",
    "\n",
    "# Kiểm tra phân tích hướng gió\n",
    "unique_wind_d = df['wind_d'].unique()\n",
    "num_wind_d = len(unique_wind_d)\n",
    "\n",
    "# Định dạng hướng gió\n",
    "wind_direction_mapping = {\n",
    "    'N': 0,\n",
    "    'NNE': 22.5,\n",
    "    'NE': 45,\n",
    "    'ENE': 67.5,\n",
    "    'E': 90,\n",
    "    'ESE': 112.5,\n",
    "    'SE': 135,\n",
    "    'SSE': 157.5,\n",
    "    'S': 180,\n",
    "    'SSW': 202.5,\n",
    "    'SW': 225,\n",
    "    'WSW': 247.5,\n",
    "    'W': 270,\n",
    "    'WNW': 292.5,\n",
    "    'NW': 315,\n",
    "    'NNW': 337.5\n",
    "}\n",
    "\n",
    "df['wind_degree'] = df['wind_d'].map(wind_direction_mapping)\n",
    "\n",
    "df['date'] = pd.to_datetime(df['date'])\n",
    "\n",
    "df['year'] = df['date'].dt.year\n",
    "df['month'] = df['date'].dt.month\n",
    "df['day'] = df['date'].dt.day\n",
    "df['day_of_week'] = df['date'].dt.day_name()  \n",
    "df['week_of_year'] = df['date'].dt.isocalendar().week \n",
    "df['year_quarter'] = df['date'].dt.to_period('Q').astype('int')\n",
    "df['month_period'] = df['date'].dt.to_period('M').astype('int')\n",
    "\n",
    "day_of_week_mapping = {\n",
    "    'Monday': 1,\n",
    "    'Tuesday': 2,\n",
    "    'Wednesday': 3,\n",
    "    'Thursday': 4,\n",
    "    'Friday': 5,\n",
    "    'Saturday': 6,\n",
    "    'Sunday': 7\n",
    "}\n",
    "\n",
    "df['day_of_week_encoded'] = df['day_of_week'].map(day_of_week_mapping)\n",
    "\n",
    "\n",
    "df.info()"
   ]
  },
  {
   "cell_type": "code",
   "execution_count": 755,
   "metadata": {},
   "outputs": [],
   "source": [
    "# Thay đổi X để sử dụng cột đã mã hóa\n",
    "X = df[['province', 'year', 'month', 'day', 'day_of_week_encoded', 'week_of_year', 'year_quarter', 'month_period']]\n",
    "y = df[['max', 'min', 'wind', 'wind_degree', 'humidi', 'cloud', 'pressure']]"
   ]
  },
  {
   "cell_type": "code",
   "execution_count": 756,
   "metadata": {},
   "outputs": [],
   "source": [
    "# Mã hóa tỉnh thành phố\n",
    "encoder = OneHotEncoder(sparse_output=False)\n",
    "X_encoded = encoder.fit_transform(X[['province']])\n",
    "X_encoded_df = pd.DataFrame(X_encoded, columns=encoder.get_feature_names_out(['province']))"
   ]
  },
  {
   "cell_type": "code",
   "execution_count": 757,
   "metadata": {},
   "outputs": [],
   "source": [
    "# Kết hợp các cột đã mã hóa với dữ liệu ngày tháng\n",
    "X_final = pd.concat([X.drop('province', axis=1), X_encoded_df], axis=1)"
   ]
  },
  {
   "cell_type": "code",
   "execution_count": 758,
   "metadata": {},
   "outputs": [],
   "source": [
    "# Chia dữ liệu thành tập huấn luyện và tập kiểm tra\n",
    "X_train, X_test, y_train, y_test = train_test_split(X_final, y, test_size=0.3, random_state=42)"
   ]
  },
  {
   "cell_type": "code",
   "execution_count": 759,
   "metadata": {},
   "outputs": [],
   "source": [
    "# Tiền xử lý dữ liệu (chuẩn hóa)\n",
    "scaler = StandardScaler()\n",
    "X_train_scaled = scaler.fit_transform(X_train)\n",
    "X_test_scaled = scaler.transform(X_test)"
   ]
  },
  {
   "cell_type": "code",
   "execution_count": 760,
   "metadata": {},
   "outputs": [],
   "source": [
    "model = MultiOutputRegressor(RandomForestRegressor(random_state=42))\n",
    "\n",
    "# Huấn luyện mô hình\n",
    "model.fit(X_train_scaled, y_train)\n",
    "\n",
    "# Lưu mô hình tốt nhất\n",
    "model1 = model\n"
   ]
  },
  {
   "cell_type": "code",
   "execution_count": 761,
   "metadata": {},
   "outputs": [],
   "source": [
    "# Dự đoán trên tập kiểm tra\n",
    "y_pred = model1.predict(X_test_scaled)"
   ]
  },
  {
   "cell_type": "code",
   "execution_count": 783,
   "metadata": {},
   "outputs": [
    {
     "name": "stdout",
     "output_type": "stream",
     "text": [
      "Max Temperature - MSE: 2.9173087968051585\n",
      "Max Temperature - R^2: 0.8601165042727765\n",
      "Min Temperature - MSE: 1.5133661592291345\n",
      "Min Temperature - R^2: 0.9025337422519619\n",
      "Wind - MSE: 7.892598212061258\n",
      "Wind - R^2: 0.7184520592256866\n",
      "Wind Degree - MSE: 1588.7784102962191\n",
      "Wind Degree - R^2: 0.6855485355884514\n",
      "Humidity - MSE: 20.88738897559903\n",
      "Humidity - R^2: 0.7586214902381826\n",
      "Cloud - MSE: 220.5018375833517\n",
      "Cloud - R^2: 0.6153468659893951\n",
      "Pressure - MSE: 2.397195276434381\n",
      "Pressure - R^2: 0.8885644279650023\n"
     ]
    }
   ],
   "source": [
    "# Đánh giá mô hình\n",
    "print('Max Temperature - MSE:', mean_squared_error(y_test['max'], y_pred[:, 0]))\n",
    "print('Max Temperature - R^2:', r2_score(y_test['max'], y_pred[:, 0]))\n",
    "print('Min Temperature - MSE:', mean_squared_error(y_test['min'], y_pred[:, 1]))\n",
    "print('Min Temperature - R^2:', r2_score(y_test['min'], y_pred[:, 1]))\n",
    "print('Wind - MSE:', mean_squared_error(y_test['wind'], y_pred[:, 2]))\n",
    "print('Wind - R^2:', r2_score(y_test['wind'], y_pred[:, 2]))\n",
    "print('Wind Degree - MSE:', mean_squared_error(y_test['wind_degree'], y_pred[:, 3]))\n",
    "print('Wind Degree - R^2:', r2_score(y_test['wind_degree'], y_pred[:, 3]))\n",
    "print('Humidity - MSE:', mean_squared_error(y_test['humidi'], y_pred[:, 4]))\n",
    "print('Humidity - R^2:', r2_score(y_test['humidi'], y_pred[:, 4]))\n",
    "print('Cloud - MSE:', mean_squared_error(y_test['cloud'], y_pred[:, 5]))\n",
    "print('Cloud - R^2:', r2_score(y_test['cloud'], y_pred[:, 5]))\n",
    "print('Pressure - MSE:', mean_squared_error(y_test['pressure'], y_pred[:, 6]))\n",
    "print('Pressure - R^2:', r2_score(y_test['pressure'], y_pred[:, 6]))"
   ]
  },
  {
   "cell_type": "code",
   "execution_count": null,
   "metadata": {},
   "outputs": [],
   "source": [
    "# Tạo DataFrame cho ngày cụ thể\n",
    "data = {\n",
    "    'province': ['Ho Chi Minh City'],\n",
    "    'date': [pd.to_datetime('2024-09-20')],\n",
    "}\n",
    "\n",
    "df_input = pd.DataFrame(data)\n",
    "\n",
    "\n",
    "# Tiền xử lý dữ liệu đầu vào\n",
    "df_input['year'] = df_input['date'].dt.year\n",
    "df_input['month'] = df_input['date'].dt.month\n",
    "df_input['day'] = df_input['date'].dt.day\n",
    "df_input['day_of_week'] = df_input['date'].dt.day_name()\n",
    "df_input['week_of_year'] = df_input['date'].dt.isocalendar().week\n",
    "df_input['year_quarter'] = df_input['date'].dt.to_period('Q').astype('int')\n",
    "df_input['month_period'] = df_input['date'].dt.to_period('M').astype('int')\n",
    "\n",
    "day_of_week_mapping = {\n",
    "    'Monday': 1,\n",
    "    'Tuesday': 2,\n",
    "    'Wednesday': 3,\n",
    "    'Thursday': 4,\n",
    "    'Friday': 5,\n",
    "    'Saturday': 6,\n",
    "    'Sunday': 7\n",
    "}\n",
    "\n",
    "df_input['day_of_week_encoded'] = df_input['day_of_week'].map(day_of_week_mapping)\n",
    "\n",
    "# Giả sử encoder đã được khởi tạo trước đó như sau:\n",
    "# encoder = OneHotEncoder(sparse=False)\n",
    "\n",
    "# Mã hóa tỉnh thành\n",
    "province_encoded = encoder.transform(df_input[['province']])\n",
    "province_encoded_df = pd.DataFrame(province_encoded, columns=encoder.get_feature_names_out(['province']))\n",
    "\n",
    "# Kết hợp các cột đã mã hóa với dữ liệu ngày tháng\n",
    "X_input = pd.concat([df_input.drop(['province', 'date', 'day_of_week'], axis=1), province_encoded_df], axis=1)\n",
    "\n",
    "# Đảm bảo thứ tự cột đúng bằng cách sắp xếp lại theo thứ tự của X_train\n",
    "X_input = X_input.reindex(columns=X_final.columns, fill_value=0)\n",
    "\n",
    "# Chuẩn hóa dữ liệu đầu vào\n",
    "X_input_scaled = scaler.transform(X_input)\n",
    "\n",
    "# Dự đoán\n",
    "y_pred_input = model.predict(X_input_scaled)\n",
    "\n",
    "# In kết quả dự đoán\n",
    "print('Dự đoán cho Ho Chi Minh City vào ngày 2024-09-20:')\n",
    "print('Max Temperature:', y_pred_input[0, 0])\n",
    "print('Min Temperature:', y_pred_input[0, 1])\n",
    "print('Wind Speed:', y_pred_input[0, 2])\n",
    "print('Wind Degree:', y_pred_input[0, 3])\n",
    "print('Humidity:', y_pred_input[0, 4])\n",
    "print('Cloud:', y_pred_input[0, 5])\n",
    "print('Pressure:', y_pred_input[0, 6])\n"
   ]
  },
  {
   "cell_type": "code",
   "execution_count": 764,
   "metadata": {},
   "outputs": [],
   "source": [
    "# model 2"
   ]
  },
  {
   "cell_type": "code",
   "execution_count": 6,
   "metadata": {},
   "outputs": [],
   "source": [
    "# Xác định biến đầu vào (X) và đầu ra (y) cho mô hình dự đoán mưa\n",
    "X_rain = df[['max', 'min', 'wind', 'wind_degree', 'humidi', 'cloud', 'pressure']]\n",
    "y_rain = df['have_rain']"
   ]
  },
  {
   "cell_type": "code",
   "execution_count": 7,
   "metadata": {},
   "outputs": [],
   "source": [
    "X_train_rain, X_test_rain, y_train_rain, y_test_rain = train_test_split(X_rain, y_rain, test_size=0.3, random_state=42)"
   ]
  },
  {
   "cell_type": "code",
   "execution_count": 8,
   "metadata": {},
   "outputs": [
    {
     "data": {
      "text/plain": [
       "['scaler_rain.pkl']"
      ]
     },
     "execution_count": 8,
     "metadata": {},
     "output_type": "execute_result"
    }
   ],
   "source": [
    "scaler_rain = StandardScaler()\n",
    "X_train_rain_scaled = scaler_rain.fit_transform(X_train_rain)\n",
    "X_test_rain_scaled = scaler_rain.transform(X_test_rain)\n",
    "\n",
    "joblib.dump(scaler_rain, 'scaler_rain.pkl')"
   ]
  },
  {
   "cell_type": "code",
   "execution_count": 9,
   "metadata": {},
   "outputs": [],
   "source": [
    "# Định nghĩa tham số cho GridSearch\n",
    "param_grid = {\n",
    "    'n_estimators': [100, 200],\n",
    "    'max_depth': [None, 10],\n",
    "    'min_samples_split': [2, 5],\n",
    "    'min_samples_leaf': [1, 2]\n",
    "}\n",
    "\n",
    "# Khởi tạo mô hình hồi quy logistic\n",
    "model2 = RandomForestClassifier(random_state=42)\n",
    "\n",
    "# Thực hiện GridSearch\n",
    "grid_search = GridSearchCV(estimator=model2, param_grid=param_grid, cv=2, scoring='r2', n_jobs=-1)\n",
    "grid_search.fit(X_train_rain_scaled, y_train_rain)\n",
    "\n",
    "# Huấn luyện mô hình\n",
    "model2 = grid_search.best_estimator_"
   ]
  },
  {
   "cell_type": "code",
   "execution_count": 10,
   "metadata": {},
   "outputs": [],
   "source": [
    "# Dự đoán trên tập kiểm tra\n",
    "y_pred_rain = model2.predict(X_test_rain_scaled)"
   ]
  },
  {
   "cell_type": "code",
   "execution_count": 11,
   "metadata": {},
   "outputs": [
    {
     "name": "stdout",
     "output_type": "stream",
     "text": [
      "Accuracy: 0.9211914706528908\n",
      "F1 Score: 0.9497371188222923\n",
      "Confusion Matrix:\n",
      " [[ 9642  2660]\n",
      " [ 1642 40644]]\n"
     ]
    }
   ],
   "source": [
    "# Đánh giá mô hình\n",
    "accuracy = accuracy_score(y_test_rain, y_pred_rain)\n",
    "f1 = f1_score(y_test_rain, y_pred_rain)\n",
    "confusion = confusion_matrix(y_test_rain, y_pred_rain)\n",
    "\n",
    "print('Accuracy:', accuracy)\n",
    "print('F1 Score:', f1)\n",
    "print('Confusion Matrix:\\n', confusion)"
   ]
  },
  {
   "cell_type": "code",
   "execution_count": null,
   "metadata": {},
   "outputs": [],
   "source": [
    "# Giả sử y_pred_input đã được tính toán từ model 1\n",
    "max_temp = y_pred_input[0, 0]\n",
    "min_temp = y_pred_input[0, 1]\n",
    "wind_speed = y_pred_input[0, 2]\n",
    "wind_degree = y_pred_input[0, 3]\n",
    "humidity = y_pred_input[0, 4]\n",
    "cloud = y_pred_input[0, 5]\n",
    "pressure = y_pred_input[0, 6]\n",
    "\n",
    "# Tạo DataFrame cho đầu vào của model 2\n",
    "data_model2 = {\n",
    "    'max': [max_temp],\n",
    "    'min': [min_temp],\n",
    "    'wind': [wind_speed],\n",
    "    'wind_degree': [wind_degree],\n",
    "    'humidi': [humidity],\n",
    "    'cloud': [cloud],\n",
    "    'pressure': [pressure]\n",
    "}\n",
    "\n",
    "df_input_model2 = pd.DataFrame(data_model2)\n",
    "\n",
    "# Nếu model 2 cần chuẩn hóa đầu vào\n",
    "X_input_model2_scaled = scaler_rain.transform(df_input_model2)\n",
    "\n",
    "# Dự đoán với model 2\n",
    "y_pred_rain = model2.predict(X_input_model2_scaled)\n",
    "\n",
    "# In kết quả dự đoán của model 2\n",
    "print('Dự đoán về khả năng có mưa cho Ho Chi Minh City vào ngày 2024-09-20:')\n",
    "print('Có mưa:', y_pred_rain[0])"
   ]
  },
  {
   "cell_type": "code",
   "execution_count": 771,
   "metadata": {},
   "outputs": [],
   "source": [
    "# Model 3"
   ]
  },
  {
   "cell_type": "code",
   "execution_count": 12,
   "metadata": {},
   "outputs": [
    {
     "name": "stdout",
     "output_type": "stream",
     "text": [
      "<class 'pandas.core.frame.DataFrame'>\n",
      "Index: 141220 entries, 0 to 181959\n",
      "Data columns (total 60 columns):\n",
      " #   Column                     Non-Null Count   Dtype         \n",
      "---  ------                     --------------   -----         \n",
      " 0   province                   141220 non-null  object        \n",
      " 1   max                        141220 non-null  int64         \n",
      " 2   min                        141220 non-null  int64         \n",
      " 3   wind                       141220 non-null  int64         \n",
      " 4   wind_d                     141220 non-null  object        \n",
      " 5   rain                       141220 non-null  float64       \n",
      " 6   humidi                     141220 non-null  int64         \n",
      " 7   cloud                      141220 non-null  int64         \n",
      " 8   pressure                   141220 non-null  int64         \n",
      " 9   date                       141220 non-null  datetime64[ns]\n",
      " 10  province_Bac Lieu          14 non-null      float64       \n",
      " 11  province_Ben Tre           14 non-null      float64       \n",
      " 12  province_Bien Hoa          14 non-null      float64       \n",
      " 13  province_Buon Me Thuot     14 non-null      float64       \n",
      " 14  province_Ca Mau            14 non-null      float64       \n",
      " 15  province_Cam Pha           14 non-null      float64       \n",
      " 16  province_Cam Ranh          14 non-null      float64       \n",
      " 17  province_Can Tho           14 non-null      float64       \n",
      " 18  province_Chau Doc          14 non-null      float64       \n",
      " 19  province_Da Lat            14 non-null      float64       \n",
      " 20  province_Ha Noi            14 non-null      float64       \n",
      " 21  province_Hai Duong         14 non-null      float64       \n",
      " 22  province_Hai Phong         14 non-null      float64       \n",
      " 23  province_Hanoi             14 non-null      float64       \n",
      " 24  province_Ho Chi Minh City  14 non-null      float64       \n",
      " 25  province_Hoa Binh          14 non-null      float64       \n",
      " 26  province_Hong Gai          14 non-null      float64       \n",
      " 27  province_Hue               14 non-null      float64       \n",
      " 28  province_Long Xuyen        14 non-null      float64       \n",
      " 29  province_My Tho            14 non-null      float64       \n",
      " 30  province_Nam Dinh          14 non-null      float64       \n",
      " 31  province_Nha Trang         14 non-null      float64       \n",
      " 32  province_Phan Rang         14 non-null      float64       \n",
      " 33  province_Phan Thiet        14 non-null      float64       \n",
      " 34  province_Play Cu           14 non-null      float64       \n",
      " 35  province_Qui Nhon          14 non-null      float64       \n",
      " 36  province_Rach Gia          14 non-null      float64       \n",
      " 37  province_Soc Trang         14 non-null      float64       \n",
      " 38  province_Tam Ky            14 non-null      float64       \n",
      " 39  province_Tan An            14 non-null      float64       \n",
      " 40  province_Thai Nguyen       14 non-null      float64       \n",
      " 41  province_Thanh Hoa         14 non-null      float64       \n",
      " 42  province_Tra Vinh          14 non-null      float64       \n",
      " 43  province_Tuy Hoa           14 non-null      float64       \n",
      " 44  province_Uong Bi           14 non-null      float64       \n",
      " 45  province_Viet Tri          14 non-null      float64       \n",
      " 46  province_Vinh              14 non-null      float64       \n",
      " 47  province_Vinh Long         14 non-null      float64       \n",
      " 48  province_Vung Tau          14 non-null      float64       \n",
      " 49  province_Yen Bai           14 non-null      float64       \n",
      " 50  have_rain                  141220 non-null  bool          \n",
      " 51  wind_degree                141220 non-null  float64       \n",
      " 52  year                       141220 non-null  int32         \n",
      " 53  month                      141220 non-null  int32         \n",
      " 54  day                        141220 non-null  int32         \n",
      " 55  day_of_week                141220 non-null  object        \n",
      " 56  week_of_year               141220 non-null  UInt32        \n",
      " 57  year_quarter               141220 non-null  int64         \n",
      " 58  month_period               141220 non-null  int64         \n",
      " 59  day_of_week_encoded        141220 non-null  int64         \n",
      "dtypes: UInt32(1), bool(1), datetime64[ns](1), float64(42), int32(3), int64(9), object(3)\n",
      "memory usage: 62.8+ MB\n"
     ]
    }
   ],
   "source": [
    "# Xác định biến đầu vào (X) và đầu ra (y) cho mô hình dự đoán lượng mưa\n",
    "df_rain_filtered = df[df['have_rain'] == True]\n",
    "\n",
    "df_rain_filtered.info()\n",
    "\n",
    "X_rain_amount = df_rain_filtered[['max', 'min', 'wind', 'wind_degree', 'humidi', 'cloud', 'pressure']]\n",
    "y_rain_amount = df_rain_filtered['rain']"
   ]
  },
  {
   "cell_type": "code",
   "execution_count": 13,
   "metadata": {},
   "outputs": [],
   "source": [
    "X_train_rain_amount, X_test_rain_amount, y_train_rain_amount, y_test_rain_amount = train_test_split(X_rain_amount, y_rain_amount, test_size=0.3, random_state=42)"
   ]
  },
  {
   "cell_type": "code",
   "execution_count": 14,
   "metadata": {},
   "outputs": [
    {
     "data": {
      "text/plain": [
       "['scaler_rain_amount.pkl']"
      ]
     },
     "execution_count": 14,
     "metadata": {},
     "output_type": "execute_result"
    }
   ],
   "source": [
    "scaler_rain_amount = StandardScaler()\n",
    "X_train_rain_amount_scaled = scaler_rain_amount.fit_transform(X_train_rain_amount)\n",
    "X_test_rain_amount_scaled = scaler_rain_amount.transform(X_test_rain_amount)\n",
    "joblib.dump(scaler_rain_amount, 'scaler_rain_amount.pkl')"
   ]
  },
  {
   "cell_type": "code",
   "execution_count": 15,
   "metadata": {},
   "outputs": [
    {
     "name": "stderr",
     "output_type": "stream",
     "text": [
      "d:\\python\\weather-prediction\\env\\Lib\\site-packages\\numpy\\ma\\core.py:2881: RuntimeWarning: invalid value encountered in cast\n",
      "  _data = np.array(data, dtype=dtype, copy=copy,\n"
     ]
    }
   ],
   "source": [
    "# Định nghĩa tham số cho GridSearch\n",
    "param_grid = {\n",
    "    'n_estimators': [50, 100],  # Số lượng cây trong rừng\n",
    "    'max_depth': [None, 5],  # Độ sâu tối đa của mỗi cây\n",
    "    'min_samples_split': [2, 5],  # Số lượng mẫu tối thiểu để chia\n",
    "    'min_samples_leaf': [1, 2, ],  # Số lượng mẫu tối thiểu trong mỗi lá\n",
    "    'max_features': ['sqrt', 'log2']  # Số lượng biến tối đa để xem xét tại mỗi phân nhánh\n",
    "}\n",
    "\n",
    "# Tạo mô hình Random Forest\n",
    "model = RandomForestRegressor(random_state=42)\n",
    "\n",
    "# Thực hiện GridSearch\n",
    "grid_search = GridSearchCV(estimator=model, param_grid=param_grid, cv=3, scoring='r2', n_jobs=-1)\n",
    "grid_search.fit(X_train_rain_amount_scaled, y_train_rain_amount)\n",
    "\n",
    "# Lưu mô hình tốt nhất\n",
    "model3 = grid_search.best_estimator_\n"
   ]
  },
  {
   "cell_type": "code",
   "execution_count": 16,
   "metadata": {},
   "outputs": [],
   "source": [
    "# # Dự đoán mẫu\n",
    "y_pred_rain_amount = model3.predict(X_test_rain_amount_scaled)"
   ]
  },
  {
   "cell_type": "code",
   "execution_count": 17,
   "metadata": {},
   "outputs": [
    {
     "name": "stdout",
     "output_type": "stream",
     "text": [
      "MSE: 92.82441159683792\n",
      "R²: 0.5661444045024135\n"
     ]
    }
   ],
   "source": [
    "#Đánh giá mô hình \n",
    "mse_rain_amount = mean_squared_error(y_test_rain_amount, y_pred_rain_amount)\n",
    "r2_rain_amount = r2_score(y_test_rain_amount, y_pred_rain_amount)\n",
    "\n",
    "print('MSE:', mse_rain_amount)\n",
    "print('R²:', r2_rain_amount)"
   ]
  },
  {
   "cell_type": "code",
   "execution_count": null,
   "metadata": {},
   "outputs": [],
   "source": [
    "# Kiểm tra kết quả dự đoán của model 2\n",
    "if y_pred_rain[0] == 1:  # Nếu có mưa\n",
    "    # Tạo DataFrame cho đầu vào của model 3 (dự đoán lượng mưa)\n",
    "    data_model3 = {\n",
    "        'max': [max_temp],\n",
    "        'min': [min_temp],\n",
    "        'wind': [wind_speed],\n",
    "        'wind_degree': [wind_degree],\n",
    "        'humidi': [humidity],\n",
    "        'cloud': [cloud],\n",
    "        'pressure': [pressure]\n",
    "    }\n",
    "\n",
    "    df_input_model3 = pd.DataFrame(data_model3)\n",
    "\n",
    "    # Nếu model 3 cần chuẩn hóa đầu vào\n",
    "    X_input_model3_scaled = scaler_rain_amount.transform(df_input_model3)\n",
    "\n",
    "    # Dự đoán với model 3\n",
    "    y_pred_rain_amount = model3.predict(X_input_model3_scaled)\n",
    "\n",
    "    # In kết quả dự đoán lượng mưa\n",
    "    print('Dự đoán lượng mưa cho Ho Chi Minh City vào ngày 2024-09-20:')\n",
    "    print('Lượng mưa dự đoán:', y_pred_rain_amount[0])  # Giá trị lượng mưa\n",
    "else:\n",
    "    print('Dự đoán cho Ho Chi Minh City vào ngày 2024-09-20: Không có mưa.')\n"
   ]
  },
  {
   "cell_type": "code",
   "execution_count": null,
   "metadata": {},
   "outputs": [],
   "source": [
    "import joblib\n",
    "\n",
    "joblib.dump(model1, 'weather_model.pkl')\n",
    "joblib.dump(model2, 'weather_model_rain.pkl')\n",
    "joblib.dump(model3, 'weather_model_rain_amount.pkl')\n",
    "joblib.dump(scaler, 'scaler.pkl')\n",
    "joblib.dump(encoder, 'encoder.pkl')\n",
    "joblib.dump(X_final, \"X_final.pkl\")"
   ]
  }
 ],
 "metadata": {
  "kernelspec": {
   "display_name": "env",
   "language": "python",
   "name": "python3"
  },
  "language_info": {
   "codemirror_mode": {
    "name": "ipython",
    "version": 3
   },
   "file_extension": ".py",
   "mimetype": "text/x-python",
   "name": "python",
   "nbconvert_exporter": "python",
   "pygments_lexer": "ipython3",
   "version": "3.11.9"
  }
 },
 "nbformat": 4,
 "nbformat_minor": 2
}
